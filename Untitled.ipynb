{
 "cells": [
  {
   "cell_type": "code",
   "execution_count": null,
   "id": "7df2b135",
   "metadata": {},
   "outputs": [],
   "source": [
    "import pytesseract\n",
    "from PIL import Image\n",
    "\n",
    "# Specify the path to the Tesseract executable if not in PATH\n",
    "pytesseract.pytesseract.tesseract_cmd = r'C:\\Program Files\\Tesseract-OCR\\tesseract.exe'  # Windows example\n",
    "\n",
    "# Load image and perform OCR\n",
    "try:\n",
    "    img = Image.open(r\"C:\\Users\\SUSHMA\\Desktop\\OCR\\ocr_env\\image1.png\")  # Ensure the image file is in the same directory or provide a full path\n",
    "except FileNotFoundError:\n",
    "    print(\"The specified image file was not found. Please check the file path.\")\n",
    "    exit()\n",
    "\n",
    "# Perform OCR with both Hindi and English languages\n",
    "try:\n",
    "    extracted_text = pytesseract.image_to_string(img, lang='hin+eng')\n",
    "    print(\"Extracted Text:\")\n",
    "    print(extracted_text)\n",
    "except Exception as e:\n",
    "    print(f\"An error occurred during OCR: {e}\")\n"
   ]
  },
  {
   "cell_type": "code",
   "execution_count": null,
   "id": "05a8ad93",
   "metadata": {},
   "outputs": [],
   "source": [
    "from transformers import pipeline\n",
    "\n",
    "# Load the OCR model\n",
    "ocr_model = pipeline('image-to-text', model=\"microsoft/trocr-base-printed\")  # or another model\n",
    "\n",
    "# Perform OCR on an image\n",
    "result = ocr_model(\"image1.jpg\")\n",
    "extracted_text = result[0][\"generated_text\"]  # Adjusted based on the output format\n",
    "\n",
    "print(\"Extracted Text:\", extracted_text)\n"
   ]
  },
  {
   "cell_type": "code",
   "execution_count": null,
   "id": "beb92c7c",
   "metadata": {},
   "outputs": [],
   "source": []
  }
 ],
 "metadata": {
  "kernelspec": {
   "display_name": "Python 3 (ipykernel)",
   "language": "python",
   "name": "python3"
  },
  "language_info": {
   "codemirror_mode": {
    "name": "ipython",
    "version": 3
   },
   "file_extension": ".py",
   "mimetype": "text/x-python",
   "name": "python",
   "nbconvert_exporter": "python",
   "pygments_lexer": "ipython3",
   "version": "3.10.0"
  }
 },
 "nbformat": 4,
 "nbformat_minor": 5
}
