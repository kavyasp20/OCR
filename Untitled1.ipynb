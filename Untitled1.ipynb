{
 "cells": [
  {
   "cell_type": "code",
   "execution_count": null,
   "id": "bf29f017",
   "metadata": {},
   "outputs": [],
   "source": [
    "import pytesseract\n",
    "from PIL import Image\n",
    "\n",
    "# Specify the path to the Tesseract executable if not in PATH\n",
    "pytesseract.pytesseract.tesseract_cmd = r'C:\\Program Files\\Tesseract-OCR\\tesseract.exe'  # Windows example\n",
    "\n",
    "# Load image and perform OCR\n",
    "try:\n",
    "    img = Image.open(r\"C:\\Users\\SUSHMA\\Desktop\\OCR\\ocr_env\\image1.png\")  # Ensure the image file is in the same directory or provide a full path\n",
    "except FileNotFoundError:\n",
    "    print(\"The specified image file was not found. Please check the file path.\")\n",
    "    exit()\n",
    "\n",
    "# Perform OCR with both Hindi and English languages\n",
    "try:\n",
    "    extracted_text = pytesseract.image_to_string(img, lang='hin+eng')\n",
    "    print(\"Extracted Text:\")\n",
    "    print(extracted_text)\n",
    "except Exception as e:\n",
    "    print(f\"An error occurred during OCR: {e}\")"
   ]
  },
  {
   "cell_type": "code",
   "execution_count": null,
   "id": "80c2e29c",
   "metadata": {},
   "outputs": [],
   "source": []
  }
 ],
 "metadata": {
  "kernelspec": {
   "display_name": "Python 3 (ipykernel)",
   "language": "python",
   "name": "python3"
  }
 },
 "nbformat": 4,
 "nbformat_minor": 5
}
